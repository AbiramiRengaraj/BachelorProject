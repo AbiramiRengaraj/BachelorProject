{
 "cells": [
  {
   "cell_type": "code",
   "execution_count": 1,
   "metadata": {
    "_cell_guid": "79c7e3d0-c299-4dcb-8224-4455121ee9b0",
    "_uuid": "d629ff2d2480ee46fbb7e2d37f6b5fab8052498a",
    "id": "VEXED9vfSlhI"
   },
   "outputs": [],
   "source": [
    "import os\n",
    "import cv2\n",
    "import random\n",
    "import pandas as pd\n",
    "import numpy as np\n",
    "import tensorflow as tf\n",
    "import matplotlib.pyplot as plt\n",
    "from tensorflow.keras import Input\n",
    "from sklearn.model_selection import train_test_split\n",
    "from tensorflow.keras.models import Model, load_model, save_model\n",
    "from tensorflow.keras.layers import Input, Activation, BatchNormalization, Dropout, Lambda, Conv2D, Conv2DTranspose, MaxPooling2D, concatenate\n",
    "from tensorflow.keras.callbacks import EarlyStopping, ModelCheckpoint\n",
    "from tensorflow.keras.applications.densenet import DenseNet121\n",
    "from tensorflow.keras.preprocessing.image import ImageDataGenerator\n",
    "from tensorflow.keras.preprocessing.image import img_to_array\n",
    "from tensorflow.keras.preprocessing.image import load_img\n",
    "from tensorflow.keras.layers import Dropout,Flatten,Dense,Input\n",
    "from tensorflow.keras.models import Model,Sequential\n",
    "from tensorflow.keras.optimizers import Adam\n",
    "from tensorflow.keras import backend as K"
   ]
  },
  {
   "cell_type": "code",
   "execution_count": 2,
   "metadata": {
    "colab": {
     "base_uri": "https://localhost:8080/"
    },
    "id": "4PvlEUwrl2_u",
    "outputId": "70b3ef14-740a-4fdd-9f62-6841629a7bd9"
   },
   "outputs": [
    {
     "name": "stdout",
     "output_type": "stream",
     "text": [
      "          image  MEL   NV  BCC  AKIEC  BKL   DF  VASC\n",
      "0  ISIC_0024306  0.0  1.0  0.0    0.0  0.0  0.0   0.0\n",
      "1  ISIC_0024307  0.0  1.0  0.0    0.0  0.0  0.0   0.0\n",
      "2  ISIC_0024308  0.0  1.0  0.0    0.0  0.0  0.0   0.0\n",
      "3  ISIC_0024309  0.0  1.0  0.0    0.0  0.0  0.0   0.0\n",
      "4  ISIC_0024310  1.0  0.0  0.0    0.0  0.0  0.0   0.0\n",
      "10015\n",
      "Index(['image', 'MEL', 'NV', 'BCC', 'AKIEC', 'BKL', 'DF', 'VASC'], dtype='object')\n"
     ]
    }
   ],
   "source": [
    "filepath=\"./dataset\"\n",
    "df = pd.read_csv(r'./GroundTruth.csv')\n",
    "print (df.head())\n",
    "print (len(df))\n",
    "print (df.columns)\n",
    "labels = ['MEL', 'NV', 'BCC', 'AKIEC', 'BKL', 'DF', 'VASC']"
   ]
  },
  {
   "cell_type": "code",
   "execution_count": 3,
   "metadata": {
    "colab": {
     "base_uri": "https://localhost:8080/"
    },
    "id": "p00C54bpl26n",
    "outputId": "30b39e84-c54d-45fb-fbe2-e52da558cfdf"
   },
   "outputs": [
    {
     "name": "stdout",
     "output_type": "stream",
     "text": [
      "                               image  MEL   NV  BCC  AKIEC  BKL   DF  VASC\n",
      "0  ./dataset/images/ISIC_0024306.jpg  0.0  1.0  0.0    0.0  0.0  0.0   0.0\n",
      "1  ./dataset/images/ISIC_0024307.jpg  0.0  1.0  0.0    0.0  0.0  0.0   0.0\n",
      "2  ./dataset/images/ISIC_0024308.jpg  0.0  1.0  0.0    0.0  0.0  0.0   0.0\n",
      "3  ./dataset/images/ISIC_0024309.jpg  0.0  1.0  0.0    0.0  0.0  0.0   0.0\n",
      "4  ./dataset/images/ISIC_0024310.jpg  1.0  0.0  0.0    0.0  0.0  0.0   0.0\n"
     ]
    }
   ],
   "source": [
    "df['image'] = filepath+\"/images/\"+df['image'].apply(lambda x: x+ '.jpg')\n",
    "print (df.head())"
   ]
  },
  {
   "cell_type": "code",
   "execution_count": 4,
   "metadata": {
    "colab": {
     "base_uri": "https://localhost:8080/"
    },
    "id": "HZrM6SzwoUen",
    "outputId": "6870061c-304f-45eb-9b9c-cfde4bb97fa0"
   },
   "outputs": [
    {
     "name": "stdout",
     "output_type": "stream",
     "text": [
      "                               image label\n",
      "0  ./dataset/images/ISIC_0024306.jpg    NV\n",
      "1  ./dataset/images/ISIC_0024307.jpg    NV\n",
      "2  ./dataset/images/ISIC_0024308.jpg    NV\n",
      "3  ./dataset/images/ISIC_0024309.jpg    NV\n",
      "4  ./dataset/images/ISIC_0024310.jpg   MEL\n"
     ]
    }
   ],
   "source": [
    "labels     =['MEL', 'NV', 'BCC', 'AKIEC', 'BKL', 'DF', 'VASC']\n",
    "label_list =[]\n",
    "for i in range (len(df)):\n",
    "    row = list(df.iloc[i])\n",
    "    del row[0]\n",
    "    index = np.argmax(row)\n",
    "    label = labels[index]\n",
    "    label_list.append(label)\n",
    "df['label'] = label_list\n",
    "df=df.drop(labels, axis=1)\n",
    "print (df.head())"
   ]
  },
  {
   "cell_type": "code",
   "execution_count": 5,
   "metadata": {
    "id": "QyJPPxmXoUbO"
   },
   "outputs": [],
   "source": [
    "def create_gen():\n",
    "    train_generator = tf.keras.preprocessing.image.ImageDataGenerator(\n",
    "        preprocessing_function=tf.keras.applications.mobilenet_v2.preprocess_input,\n",
    "        validation_split=0.1\n",
    "    )\n",
    "\n",
    "    test_generator = tf.keras.preprocessing.image.ImageDataGenerator(\n",
    "        preprocessing_function=tf.keras.applications.mobilenet_v2.preprocess_input\n",
    "    )\n",
    "\n",
    "    train_images = train_generator.flow_from_dataframe(\n",
    "        dataframe=train_df,rescale = 1./255,\n",
    "        x_col='image',\n",
    "        y_col='label',\n",
    "        target_size=(150,150),\n",
    "        color_mode='rgb',\n",
    "        class_mode='categorical',\n",
    "        batch_size=32,\n",
    "        shuffle=True,\n",
    "        seed=0,\n",
    "        subset='training',\n",
    "        rotation_range=30,\n",
    "        zoom_range=0.15,\n",
    "        width_shift_range=0.2,\n",
    "        height_shift_range=0.2,\n",
    "        shear_range=0.15,\n",
    "        horizontal_flip=True,\n",
    "        fill_mode=\"nearest\"\n",
    "    )\n",
    "\n",
    "    val_images = train_generator.flow_from_dataframe(\n",
    "        dataframe=train_df,rescale = 1./255,\n",
    "        x_col='image',\n",
    "        y_col='label',\n",
    "        target_size=(150,150),\n",
    "        color_mode='rgb',\n",
    "        class_mode='categorical',\n",
    "        batch_size=32,\n",
    "        shuffle=True,\n",
    "        seed=0,\n",
    "        subset='validation',\n",
    "        rotation_range=30, \n",
    "        zoom_range=0.15,\n",
    "        width_shift_range=0.2,\n",
    "        height_shift_range=0.2,\n",
    "        shear_range=0.15,\n",
    "        horizontal_flip=True,\n",
    "        fill_mode=\"nearest\"\n",
    "    )\n",
    "\n",
    "    test_images = test_generator.flow_from_dataframe(\n",
    "        dataframe=test_df,rescale = 1./255,\n",
    "        x_col='image',\n",
    "        y_col='label',\n",
    "        target_size=(150,150),\n",
    "        color_mode='rgb',\n",
    "        class_mode='categorical',\n",
    "        batch_size=32,\n",
    "        shuffle=False\n",
    "    )\n",
    "    \n",
    "    return train_generator,test_generator,train_images,val_images,test_images"
   ]
  },
  {
   "cell_type": "code",
   "execution_count": 6,
   "metadata": {
    "id": "1o5WmLtNoUXZ"
   },
   "outputs": [],
   "source": [
    "train_df, test_df = train_test_split(df, train_size=0.7, shuffle=True, random_state=1)\n"
   ]
  },
  {
   "cell_type": "code",
   "execution_count": 7,
   "metadata": {
    "colab": {
     "base_uri": "https://localhost:8080/"
    },
    "id": "kQgBwQ9boUV0",
    "outputId": "0211a42a-ca8e-4488-8049-eda33268440f"
   },
   "outputs": [
    {
     "name": "stdout",
     "output_type": "stream",
     "text": [
      "Found 6309 validated image filenames belonging to 7 classes.\n",
      "Found 701 validated image filenames belonging to 7 classes.\n",
      "Found 3005 validated image filenames belonging to 7 classes.\n"
     ]
    }
   ],
   "source": [
    "train_generator,test_generator,train_images,val_images,test_images=create_gen()"
   ]
  },
  {
   "cell_type": "code",
   "execution_count": 8,
   "metadata": {
    "colab": {
     "base_uri": "https://localhost:8080/"
    },
    "id": "ekkmB8CvoURh",
    "outputId": "69eb64b0-4acb-4c38-f94a-32c783da1c15"
   },
   "outputs": [
    {
     "name": "stdout",
     "output_type": "stream",
     "text": [
      "Model: \"sequential\"\n",
      "_________________________________________________________________\n",
      " Layer (type)                Output Shape              Param #   \n",
      "=================================================================\n",
      " densenet121 (Functional)    (None, 4, 4, 1024)        7037504   \n",
      "                                                                 \n",
      " dropout (Dropout)           (None, 4, 4, 1024)        0         \n",
      "                                                                 \n",
      " flatten (Flatten)           (None, 16384)             0         \n",
      "                                                                 \n",
      " batch_normalization (BatchN  (None, 16384)            65536     \n",
      " ormalization)                                                   \n",
      "                                                                 \n",
      " dense (Dense)               (None, 2048)              33556480  \n",
      "                                                                 \n",
      " batch_normalization_1 (Batc  (None, 2048)             8192      \n",
      " hNormalization)                                                 \n",
      "                                                                 \n",
      " activation (Activation)     (None, 2048)              0         \n",
      "                                                                 \n",
      " dropout_1 (Dropout)         (None, 2048)              0         \n",
      "                                                                 \n",
      " dense_1 (Dense)             (None, 1024)              2098176   \n",
      "                                                                 \n",
      " batch_normalization_2 (Batc  (None, 1024)             4096      \n",
      " hNormalization)                                                 \n",
      "                                                                 \n",
      " activation_1 (Activation)   (None, 1024)              0         \n",
      "                                                                 \n",
      " dropout_2 (Dropout)         (None, 1024)              0         \n",
      "                                                                 \n",
      " dense_2 (Dense)             (None, 7)                 7175      \n",
      "                                                                 \n",
      "=================================================================\n",
      "Total params: 42,777,159\n",
      "Trainable params: 35,700,743\n",
      "Non-trainable params: 7,076,416\n",
      "_________________________________________________________________\n"
     ]
    }
   ],
   "source": [
    "model2=Sequential()\n",
    "mdl = DenseNet121(input_shape=(150,150,3), \n",
    "                         include_top=False,\n",
    "                         weights=\"imagenet\")\n",
    "for layer in mdl.layers:\n",
    "    layer.trainable=False\n",
    "model2.add(mdl)\n",
    "model2.add(Dropout(0.5))\n",
    "model2.add(Flatten())\n",
    "model2.add(BatchNormalization())\n",
    "model2.add(Dense(2048,kernel_initializer='he_uniform'))\n",
    "model2.add(BatchNormalization())\n",
    "model2.add(Activation('relu'))\n",
    "model2.add(Dropout(0.5))\n",
    "model2.add(Dense(1024,kernel_initializer='he_uniform'))\n",
    "model2.add(BatchNormalization())\n",
    "model2.add(Activation('relu'))\n",
    "model2.add(Dropout(0.5))\n",
    "model2.add(Dense(7,activation='softmax'))\n",
    "model2.summary()"
   ]
  },
  {
   "cell_type": "code",
   "execution_count": 9,
   "metadata": {
    "colab": {
     "base_uri": "https://localhost:8080/"
    },
    "id": "R-IKYZ1Evhwt",
    "outputId": "eaf52d45-295d-4695-9293-f78a37ce48ae"
   },
   "outputs": [],
   "source": [
    "OPT    = Adam(learning_rate=0.001)\n",
    "\n",
    "model2.compile(loss='categorical_crossentropy',\n",
    "              metrics=['accuracy'],\n",
    "              optimizer=OPT)"
   ]
  },
  {
   "cell_type": "code",
   "execution_count": 10,
   "metadata": {
    "colab": {
     "base_uri": "https://localhost:8080/"
    },
    "id": "I34Rxa5boUN9",
    "outputId": "57982231-aa44-474c-e17b-858b3c6efd38"
   },
   "outputs": [
    {
     "name": "stdout",
     "output_type": "stream",
     "text": [
      "Epoch 1/15\n",
      "198/198 [==============================] - 385s 2s/step - loss: 1.0821 - accuracy: 0.6673 - val_loss: 0.8924 - val_accuracy: 0.6876\n",
      "Epoch 2/15\n",
      "198/198 [==============================] - 351s 2s/step - loss: 0.7133 - accuracy: 0.7561 - val_loss: 0.6773 - val_accuracy: 0.7646\n",
      "Epoch 3/15\n",
      "198/198 [==============================] - 344s 2s/step - loss: 0.5900 - accuracy: 0.7865 - val_loss: 0.6497 - val_accuracy: 0.7618\n",
      "Epoch 4/15\n",
      "198/198 [==============================] - 353s 2s/step - loss: 0.5010 - accuracy: 0.8150 - val_loss: 0.6655 - val_accuracy: 0.7703\n",
      "Epoch 5/15\n",
      "198/198 [==============================] - 408s 2s/step - loss: 0.4405 - accuracy: 0.8382 - val_loss: 0.6156 - val_accuracy: 0.7732\n",
      "Epoch 6/15\n",
      "198/198 [==============================] - 427s 2s/step - loss: 0.3862 - accuracy: 0.8567 - val_loss: 0.6497 - val_accuracy: 0.7689\n",
      "Epoch 7/15\n",
      "198/198 [==============================] - 379s 2s/step - loss: 0.3501 - accuracy: 0.8697 - val_loss: 0.7072 - val_accuracy: 0.7817\n",
      "Epoch 8/15\n",
      "198/198 [==============================] - 369s 2s/step - loss: 0.3036 - accuracy: 0.8889 - val_loss: 0.6632 - val_accuracy: 0.8046\n",
      "Epoch 9/15\n",
      "198/198 [==============================] - 439s 2s/step - loss: 0.2944 - accuracy: 0.8965 - val_loss: 0.6803 - val_accuracy: 0.7932\n",
      "Epoch 10/15\n",
      "198/198 [==============================] - 422s 2s/step - loss: 0.2784 - accuracy: 0.8989 - val_loss: 0.7444 - val_accuracy: 0.7874\n",
      "Epoch 11/15\n",
      "198/198 [==============================] - 394s 2s/step - loss: 0.2672 - accuracy: 0.9033 - val_loss: 0.7393 - val_accuracy: 0.7889\n",
      "Epoch 12/15\n",
      "198/198 [==============================] - 362s 2s/step - loss: 0.2585 - accuracy: 0.9085 - val_loss: 0.7693 - val_accuracy: 0.7789\n",
      "Epoch 13/15\n",
      "198/198 [==============================] - 329s 2s/step - loss: 0.2407 - accuracy: 0.9131 - val_loss: 0.6931 - val_accuracy: 0.7860\n",
      "Epoch 14/15\n",
      "198/198 [==============================] - 332s 2s/step - loss: 0.1894 - accuracy: 0.9290 - val_loss: 0.7781 - val_accuracy: 0.7960\n",
      "Epoch 15/15\n",
      "198/198 [==============================] - 331s 2s/step - loss: 0.1907 - accuracy: 0.9323 - val_loss: 0.8200 - val_accuracy: 0.7846\n"
     ]
    }
   ],
   "source": [
    "history = model2.fit(\n",
    "    train_images,\n",
    "    validation_data=val_images,\n",
    "    batch_size = 32,\n",
    "    epochs=15,\n",
    ")\n",
    "model2.save('cl.h5')"
   ]
  },
  {
   "cell_type": "code",
   "execution_count": 11,
   "metadata": {
    "colab": {
     "base_uri": "https://localhost:8080/",
     "height": 295
    },
    "id": "A0pNfMwdAQ4a",
    "outputId": "fd695df0-7b88-42d8-c11d-61fbc104b7bc"
   },
   "outputs": [
    {
     "data": {
      "image/png": "[encoded data removed]",
      "text/plain": [
       "<Figure size 640x480 with 1 Axes>"
      ]
     },
     "metadata": {},
     "output_type": "display_data"
    }
   ],
   "source": [
    "plt.plot(history.history['accuracy'])\n",
    "plt.plot(history.history['val_accuracy'])\n",
    "plt.title('Model Accuracy')\n",
    "plt.ylabel('Accuracy')\n",
    "plt.xlabel('Epoch')\n",
    "plt.legend(['Train', 'Validation'], loc='upper left', bbox_to_anchor=(1,1))\n",
    "plt.show()"
   ]
  },
  {
   "cell_type": "code",
   "execution_count": 14,
   "metadata": {
    "colab": {
     "base_uri": "https://localhost:8080/",
     "height": 295
    },
    "id": "cN6N6QisA22W",
    "outputId": "4251b8a3-6e03-42b5-9856-bc8063153a7d"
   },
   "outputs": [
    {
     "data": {
      "image/png": "[encoded data removed]",
      "text/plain": [
       "<Figure size 640x480 with 1 Axes>"
      ]
     },
     "metadata": {},
     "output_type": "display_data"
    }
   ],
   "source": [
    "plt.plot(history.history['loss'])\n",
    "plt.plot(history.history['val_loss'])\n",
    "plt.title('Model Loss')\n",
    "plt.ylabel('Loss')\n",
    "plt.xlabel('Epoch')\n",
    "plt.legend(['Train', 'Validation'], loc='upper left', bbox_to_anchor=(1,1))\n",
    "plt.show()"
   ]
  },
  {
   "cell_type": "code",
   "execution_count": null,
   "metadata": {},
   "outputs": [],
   "source": []
  },
  {
   "cell_type": "code",
   "execution_count": null,
   "metadata": {},
   "outputs": [],
   "source": []
  },
  {
   "cell_type": "code",
   "execution_count": null,
   "metadata": {},
   "outputs": [],
   "source": []
  },
  {
   "cell_type": "code",
   "execution_count": null,
   "metadata": {},
   "outputs": [],
   "source": []
  },
  {
   "cell_type": "code",
   "execution_count": null,
   "metadata": {},
   "outputs": [],
   "source": []
  },
  {
   "cell_type": "code",
   "execution_count": null,
   "metadata": {},
   "outputs": [],
   "source": []
  },
  {
   "cell_type": "code",
   "execution_count": null,
   "metadata": {},
   "outputs": [],
   "source": []
  },
  {
   "cell_type": "code",
   "execution_count": null,
   "metadata": {},
   "outputs": [],
   "source": []
  },
  {
   "cell_type": "code",
   "execution_count": 15,
   "metadata": {},
   "outputs": [],
   "source": [
    "import os\n",
    "import numpy as np\n",
    "import matplotlib.pyplot as plt\n",
    "import tensorflow.keras\n",
    "from tensorflow.keras.layers import *\n",
    "from tensorflow.keras.models import *\n",
    "from tensorflow.keras.preprocessing import image\n",
    "from tensorflow.keras.preprocessing.image import load_img, img_to_array\n",
    "model=load_model('cl.h5')\n",
    "labels=['Melanoma', 'elanocytic nevi', 'Basal cell carcinoma', 'Actinic keratoses', 'Benign keratosis-like lesions', 'Dermatofibroma', 'vascular lesions']\n"
   ]
  },
  {
   "cell_type": "code",
   "execution_count": 2,
   "metadata": {
    "colab": {
     "base_uri": "https://localhost:8080/",
     "height": 299
    },
    "id": "qurH9Nbv9PmN",
    "outputId": "b2ca2c9e-ff64-4aba-9d2f-6d9318ebb9f6"
   },
   "outputs": [
    {
     "ename": "NameError",
     "evalue": "name 'load_img' is not defined",
     "output_type": "error",
     "traceback": [
      "\u001b[1;31m---------------------------------------------------------------------------\u001b[0m",
      "\u001b[1;31mNameError\u001b[0m                                 Traceback (most recent call last)",
      "Cell \u001b[1;32mIn[2], line 2\u001b[0m\n\u001b[0;32m      1\u001b[0m image_path\u001b[38;5;241m=\u001b[39m\u001b[38;5;124m\"\u001b[39m\u001b[38;5;124m./dataset/images/ISIC_0024361.jpg\u001b[39m\u001b[38;5;124m\"\u001b[39m\n\u001b[1;32m----> 2\u001b[0m img \u001b[38;5;241m=\u001b[39m \u001b[43mload_img\u001b[49m(image_path, target_size\u001b[38;5;241m=\u001b[39m(\u001b[38;5;241m150\u001b[39m,\u001b[38;5;241m150\u001b[39m,\u001b[38;5;241m3\u001b[39m))\n\u001b[0;32m      3\u001b[0m img \u001b[38;5;241m=\u001b[39m img_to_array(img)\n\u001b[0;32m      4\u001b[0m img\u001b[38;5;241m=\u001b[39mimg\u001b[38;5;241m/\u001b[39m\u001b[38;5;241m255\u001b[39m\n",
      "\u001b[1;31mNameError\u001b[0m: name 'load_img' is not defined"
     ]
    }
   ],
   "source": [
    "image_path=\"./dataset/images/ISIC_0024361.jpg\"\n",
    "img = load_img(image_path, target_size=(150,150,3))\n",
    "img = img_to_array(img)\n",
    "img=img/255\n",
    "plt.imshow(img)\n",
    "plt.axis(\"off\")\n",
    "img = np.expand_dims(img, axis=0)\n",
    "result=np.argmax(model.predict(img))\n",
    "label=labels[result]\n",
    "print(\"The image is of skin disease of class : \"+ label)\n",
    "plt.title(\"INPUT IMAGE\")\n",
    "plt.show()"
   ]
  },
  {
   "cell_type": "code",
   "execution_count": 3,
   "metadata": {},
   "outputs": [
    {
     "ename": "NameError",
     "evalue": "name 'load_img' is not defined",
     "output_type": "error",
     "traceback": [
      "\u001b[1;31m---------------------------------------------------------------------------\u001b[0m",
      "\u001b[1;31mNameError\u001b[0m                                 Traceback (most recent call last)",
      "Cell \u001b[1;32mIn[3], line 2\u001b[0m\n\u001b[0;32m      1\u001b[0m image_path\u001b[38;5;241m=\u001b[39m\u001b[38;5;124m\"\u001b[39m\u001b[38;5;124m./dataset/images/ISIC_0024306.jpg\u001b[39m\u001b[38;5;124m\"\u001b[39m\n\u001b[1;32m----> 2\u001b[0m img \u001b[38;5;241m=\u001b[39m \u001b[43mload_img\u001b[49m(image_path, target_size\u001b[38;5;241m=\u001b[39m(\u001b[38;5;241m150\u001b[39m,\u001b[38;5;241m150\u001b[39m,\u001b[38;5;241m3\u001b[39m))\n\u001b[0;32m      3\u001b[0m img \u001b[38;5;241m=\u001b[39m img_to_array(img)\n\u001b[0;32m      4\u001b[0m img\u001b[38;5;241m=\u001b[39mimg\u001b[38;5;241m/\u001b[39m\u001b[38;5;241m255\u001b[39m\n",
      "\u001b[1;31mNameError\u001b[0m: name 'load_img' is not defined"
     ]
    }
   ],
   "source": [
    "image_path=\"./dataset/images/ISIC_0024306.jpg\"\n",
    "img = load_img(image_path, target_size=(150,150,3))\n",
    "img = img_to_array(img)\n",
    "img=img/255\n",
    "plt.imshow(img)\n",
    "plt.axis(\"off\")\n",
    "img = np.expand_dims(img, axis=0)\n",
    "result=np.argmax(model.predict(img))\n",
    "label=labels[result]\n",
    "print(\"The image is of skin disease of class : \"+ label)\n",
    "plt.title(\"INPUT IMAGE\")\n",
    "plt.show()"
   ]
  },
  {
   "cell_type": "code",
   "execution_count": null,
   "metadata": {},
   "outputs": [],
   "source": []
  },
  {
   "cell_type": "code",
   "execution_count": null,
   "metadata": {},
   "outputs": [],
   "source": []
  },
  {
   "cell_type": "code",
   "execution_count": null,
   "metadata": {},
   "outputs": [],
   "source": []
  }
 ],
 "metadata": {
  "accelerator": "GPU",
  "colab": {
   "provenance": []
  },
  "gpuClass": "standard",
  "kernelspec": {
   "display_name": "Python 3 (ipykernel)",
   "language": "python",
   "name": "python3"
  },
  "language_info": {
   "codemirror_mode": {
    "name": "ipython",
    "version": 3
   },
   "file_extension": ".py",
   "mimetype": "text/x-python",
   "name": "python",
   "nbconvert_exporter": "python",
   "pygments_lexer": "ipython3",
   "version": "3.8.16"
  }
 },
 "nbformat": 4,
 "nbformat_minor": 1
}
